{
 "cells": [
  {
   "cell_type": "markdown",
   "metadata": {},
   "source": [
    "# Úkol č. 3 - Segmentace zákazníků e-shopu (do 29. listopadu)\n",
    "\n",
    "Jednou z důležitých aplikací shlukování je **segmentace zákazníků** (angl. **customer segmentation**). \n",
    "\n",
    "Předpokládejme, že máme následující obchodní údaje o prodejích (resp. nákupech z pohledu zákazníků):\n",
    "TransactionID - ID nákupu,\n",
    "CustomerID - ID zákazníka, \n",
    "Date - datum nákupu, \n",
    "Total - celková cena nákupu.\n",
    "\n",
    "Chceme najít segmenty zákazníků, kteří se chovají podobně. K tomu je dobré informace z jednotlivých nákupů pro individuální zákazníky agregovat. Tj. získat pro každého zákazníka jeden řádek.\n",
    "\n",
    "Populárním přístupem je **RFM**, což znamená:\n",
    "\n",
    "- **R**ecency: Počet dnů od posledního nákupu (poslední datum v datasetu pro daného zákazníka).\n",
    "    - Počet dnů počítejte ke dni uskutečnění poslendní transakce v celém datasetu (tj. 12/19/2015), nikoli k dnešku. Tváříme se, že jde o aktuální data.\n",
    "- **F**requency: Počet nákupů. Občas se vynechávají zákazníci s jediným nákupem. Pro jednoduchost je zde ale necháme.\n",
    "- **M**onetary: Celková suma, kterou daný zákazník utratil.\n",
    "\n",
    "## Zdroj dat\n",
    "Budeme pracovat s daty z jednoho (skoro) vymyšleného eshopu:"
   ]
  },
  {
   "cell_type": "code",
   "execution_count": 1,
   "metadata": {},
   "outputs": [],
   "source": [
    "import pandas as pd\n",
    "import numpy as np\n",
    "import matplotlib.pyplot as plt\n"
   ]
  },
  {
   "cell_type": "code",
   "execution_count": 2,
   "metadata": {},
   "outputs": [],
   "source": [
    "df = pd.read_csv(\"eshop.csv\")"
   ]
  },
  {
   "cell_type": "code",
   "execution_count": 49,
   "metadata": {
    "scrolled": true
   },
   "outputs": [
    {
     "data": {
      "text/html": [
       "<div>\n",
       "<style scoped>\n",
       "    .dataframe tbody tr th:only-of-type {\n",
       "        vertical-align: middle;\n",
       "    }\n",
       "\n",
       "    .dataframe tbody tr th {\n",
       "        vertical-align: top;\n",
       "    }\n",
       "\n",
       "    .dataframe thead th {\n",
       "        text-align: right;\n",
       "    }\n",
       "</style>\n",
       "<table border=\"1\" class=\"dataframe\">\n",
       "  <thead>\n",
       "    <tr style=\"text-align: right;\">\n",
       "      <th></th>\n",
       "      <th>Customer ID</th>\n",
       "      <th>Date</th>\n",
       "      <th>Subtotal</th>\n",
       "      <th>Country</th>\n",
       "    </tr>\n",
       "  </thead>\n",
       "  <tbody>\n",
       "    <tr>\n",
       "      <th>0</th>\n",
       "      <td>34</td>\n",
       "      <td>2007-06-21</td>\n",
       "      <td>86.0</td>\n",
       "      <td>Czech Republic</td>\n",
       "    </tr>\n",
       "    <tr>\n",
       "      <th>1</th>\n",
       "      <td>38</td>\n",
       "      <td>2007-06-27</td>\n",
       "      <td>38.4</td>\n",
       "      <td>Czech Republic</td>\n",
       "    </tr>\n",
       "    <tr>\n",
       "      <th>2</th>\n",
       "      <td>47</td>\n",
       "      <td>2007-07-02</td>\n",
       "      <td>53.5</td>\n",
       "      <td>Slovakia</td>\n",
       "    </tr>\n",
       "    <tr>\n",
       "      <th>3</th>\n",
       "      <td>61</td>\n",
       "      <td>2007-07-14</td>\n",
       "      <td>7.0</td>\n",
       "      <td>Czech Republic</td>\n",
       "    </tr>\n",
       "    <tr>\n",
       "      <th>4</th>\n",
       "      <td>78</td>\n",
       "      <td>2007-07-21</td>\n",
       "      <td>55.5</td>\n",
       "      <td>Czech Republic</td>\n",
       "    </tr>\n",
       "  </tbody>\n",
       "</table>\n",
       "</div>"
      ],
      "text/plain": [
       "   Customer ID       Date  Subtotal         Country\n",
       "0           34 2007-06-21      86.0  Czech Republic\n",
       "1           38 2007-06-27      38.4  Czech Republic\n",
       "2           47 2007-07-02      53.5        Slovakia\n",
       "3           61 2007-07-14       7.0  Czech Republic\n",
       "4           78 2007-07-21      55.5  Czech Republic"
      ]
     },
     "execution_count": 49,
     "metadata": {},
     "output_type": "execute_result"
    }
   ],
   "source": [
    "df.head()\n",
    "# df.info()\n"
   ]
  },
  {
   "cell_type": "markdown",
   "metadata": {},
   "source": [
    "## Pokyny k vypracování\n",
    "\n",
    "**Základní body zadání**, za jejichž (poctivé) vypracování získáte **8 bodů**:\n",
    "- Vytvořte `rfm` data frame, kde každý řádek odpovídá jednomu zákazníkovi a sloupce (příznaky) jsou uvedené výše.\n",
    "- Pomocí algoritmu `K-means` proveďte shlukování. Nějakým způsobem také odhadněte nejlepší počet shluků (podrobně vysvětlete).\n",
    "- Zabývejte se vlivem přeškálování dat (standardizace příznaků). Tj. určete, zda je přeškálování vhodné, a proveďte ho.\n",
    "- Interpretujte jednotlivé shluky. Použijte získané shluky k odlišení \"superstar\" zákazníků (vysoká monetary, vysoká frequency a nízká recency) od nezajímavých  zákazníků (vysoká recency, nízká frequency, nízká monetary).\n",
    "\n",
    "**Další body zadání** za případné další body  (můžete si vybrat, maximum bodů za úkol je každopádně 12 bodů):\n",
    "- (až +4 body) Proveďte analýzu vytvořených shluků pomocí metody silhouette (https://en.wikipedia.org/wiki/Silhouette_(clustering)).\n",
    "- (až +4 body) Zkuste provést to samé s modifikovanou verzí **RFM**, kde Recency = \"maximum počtu měsíců od posledního nákupu a čísla 1\", Frequency = \"maximum počtu nákupů daného zákazníka v posledních 12 měsících a čísla 1\", Monetary = \"Nejvyšší hodnota nákupu daného zákazníka\". Porovnejte s původním přístupem.\n",
    "\n",
    "## Poznámky k odevzdání\n",
    "\n",
    "  * Řiďte se pokyny ze stránky https://courses.fit.cvut.cz/BI-VZD/homeworks/index.html.\n",
    "  * Odevzdejte Jupyter Notebook.\n",
    "  * Ke komentování toho, co v notebooku děláte, použijte Markdown buňky.\n",
    "  * Opravující Vám může umožnit úkol dodělat či opravit a získat tak další body. První verze je ale důležitá a bude-li odbytá, budete za to penalizováni\n"
   ]
  },
  {
   "cell_type": "code",
   "execution_count": 122,
   "metadata": {},
   "outputs": [
    {
     "name": "stdout",
     "output_type": "stream",
     "text": [
      "(12829, 3)\n"
     ]
    }
   ],
   "source": [
    "# vytvor rfm\n",
    "\n",
    "recency = df[['Customer ID','Date']].groupby(by=['Customer ID']).max().rename(columns={'Date':'Recency'})\n",
    "recency['Recency'] = (pd.to_datetime('12-19-2015') - recency['Recency']).dt.days\n",
    "# display(recency)\n",
    "\n",
    "frequency = df[['Customer ID','Date']].groupby(by=['Customer ID']).count().rename(columns={'Date':'Frequency'})\n",
    "# display(frequency)\n",
    "\n",
    "monetary = df[['Customer ID','Subtotal']].groupby(by=['Customer ID']).sum().rename(columns={'Subtotal':'Monetary'})\n",
    "# display(monetary)\n",
    "\n",
    "rfm = recency.join([frequency,monetary])\n",
    "# display(rfm)\n",
    "\n",
    "X = rfm.to_numpy()\n",
    "print(X.shape)"
   ]
  },
  {
   "cell_type": "markdown",
   "metadata": {},
   "source": [
    "Vytvoříme slukovaná data pomocí algoritmu k-Means\n",
    "\n",
    "1. optimalizaci a volbu k nejprve jednoduše odhadneme na základě vykresleného grafu -> najdeme loket\n",
    "\n",
    "2. optimalizaci provedeme pomocí metody silhouette analysis"
   ]
  },
  {
   "cell_type": "code",
   "execution_count": 123,
   "metadata": {},
   "outputs": [
    {
     "data": {
      "image/png": "[encoded data removed]",
      "text/plain": [
       "<Figure size 432x288 with 1 Axes>"
      ]
     },
     "metadata": {
      "needs_background": "light"
     },
     "output_type": "display_data"
    }
   ],
   "source": [
    "# 1. k-means, odhad k\n",
    "\n",
    "from sklearn.cluster import KMeans\n",
    "\n",
    "ix = np.zeros(5)\n",
    "iy = np.zeros(5)\n",
    "for k in range(5):\n",
    "    kmeans = KMeans(n_clusters=k+1, random_state = 1, n_init=2).fit(X)\n",
    "    iy[k] = kmeans.inertia_\n",
    "    ix[k] = k+1\n",
    "\n",
    "plt.xlabel('k')\n",
    "plt.ylabel('Účelová funkce')\n",
    "plt.plot(ix, iy, 'o-')\n",
    "plt.show()"
   ]
  },
  {
   "cell_type": "code",
   "execution_count": 125,
   "metadata": {},
   "outputs": [
    {
     "name": "stdout",
     "output_type": "stream",
     "text": [
      "[0 1 1 ... 0 0 0]\n",
      "[[5.25723398e+02 2.06582981e+00 2.06197686e+02]\n",
      " [1.76376330e+03 1.38089662e+00 9.80567497e+01]]\n"
     ]
    }
   ],
   "source": [
    "# podle odhadu volím k=2\n",
    "\n",
    "\n",
    "k = 2\n",
    "kmeans = KMeans(n_clusters = k, random_state = 1, n_init = 2).fit(X)\n",
    "\n",
    "# výsledné shluky\n",
    "print(kmeans.labels_)\n",
    "# a jejich středy\n",
    "print(kmeans.cluster_centers_)"
   ]
  },
  {
   "cell_type": "code",
   "execution_count": null,
   "metadata": {},
   "outputs": [],
   "source": []
  },
  {
   "cell_type": "code",
   "execution_count": null,
   "metadata": {},
   "outputs": [],
   "source": []
  }
 ],
 "metadata": {
  "kernelspec": {
   "display_name": "Python 3",
   "language": "python",
   "name": "python3"
  },
  "language_info": {
   "codemirror_mode": {
    "name": "ipython",
    "version": 3
   },
   "file_extension": ".py",
   "mimetype": "text/x-python",
   "name": "python",
   "nbconvert_exporter": "python",
   "pygments_lexer": "ipython3",
   "version": "3.6.8"
  }
 },
 "nbformat": 4,
 "nbformat_minor": 4
}
