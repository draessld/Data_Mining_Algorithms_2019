{
 "cells": [
  {
   "cell_type": "markdown",
   "metadata": {},
   "source": [
    "# Úkol č. 4 - regrese (do 2. ledna)\n",
    "\n",
    "  * Cílem tohoto úkolu je vyzkoušet si řešit regresní problém na reálných (ale celkem vyčištěných) datech.\n",
    "  \n",
    "> **Nejdůležitější na úkolu je to, abyste udělali vše procesně správně: korektní rozdělení datasetu, ladění hyperparametrů, vyhodnocení výsledků atp.**\n",
    "\n",
    "## Dataset\n",
    "\n",
    "  * Zdrojem dat je list *Data* v souboru `Residential-Building-Data-Set.xlsx` na course pages (originál zde: https://archive.ics.uci.edu/ml/datasets/Residential+Building+Data+Set#).\n",
    "  * Popis datasetu najdete na listu *Descriptions* ve stejném souboru.\n",
    "  \n",
    "\n",
    "## Pokyny k vypracování\n",
    "\n",
    "  1. Rozdělte data na trénovací a testovací množinu.\n",
    "  1. Proveďte základní průzkum dat a příp. vyhoďte nezajímavé příznaky.\n",
    "  1. Aplikujte lineární a hřebenovou regresi a výsledky řádně vyhodnoťte:\n",
    "    * K měření chyby použijte `mean_absolute_error`.\n",
    "    * Experimentujte s tvorbou nových příznaků (na základě těch dostupných).\n",
    "    * Experimentujte se standardizací/normalizací dat.\n",
    "    * Vyberte si hyperparametry modelů k ladění a najděte jejich nejlepší hodnoty.\n",
    "  1. Použijte i jiný model než jen lineární a hřebenovou regresi.\n",
    "\n",
    "\n",
    "## Poznámky k odevzdání\n",
    "\n",
    "  * Řiďte se pokyny ze stránky https://courses.fit.cvut.cz/BI-VZD/homeworks/index.html.\n",
    "  * Odevzdejte pouze tento Jupyter Notebook, opravujíví by neměl nic jiného potřebovat.\n",
    "  * Opravující Vám může umožnit úkol dodělat či opravit a získat tak další body. První verze je ale důležitá a bude-li odbytá, budete za to penalizováni."
   ]
  },
  {
   "cell_type": "code",
   "execution_count": 1,
   "metadata": {},
   "outputs": [],
   "source": [
    "# odtud už je to Vaše\n",
    "import pandas as pd\n",
    "import matplotlib.pyplot as plt\n",
    "import numpy as np\n",
    "\n",
    "from sklearn.model_selection import train_test_split\n",
    "from sklearn.metrics import mean_squared_error\n",
    "from sklearn.metrics import mean_absolute_error\n",
    "\n",
    "from sklearn.linear_model import LinearRegression\n",
    "from sklearn.ensemble import RandomForestRegressor\n",
    "from sklearn.linear_model import Ridge\n",
    "\n",
    "from sklearn.preprocessing import StandardScaler\n",
    "from sklearn.preprocessing import LabelEncoder"
   ]
  },
  {
   "cell_type": "markdown",
   "metadata": {},
   "source": [
    "Kazdou predikovanou hodnotu budeme predikovat v jednom modelu, tedy budou 2 modely, jeden pro predikci ceny prodeje, ktere nejlepe vystihuje prvnich 8 priznaku, druhy model pro stavebni cenu stavby z nejaktualnejsich dat, tedy z posledniho setu"
   ]
  },
  {
   "cell_type": "code",
   "execution_count": 7,
   "metadata": {},
   "outputs": [],
   "source": [
    "data = pd.read_excel('Residential-Building-Data-Set.xlsx',list='Data',skiprows=1)\n",
    "\n",
    "SalePrice_Y=data[['V-9']]       #   predikovana hodnota pro prvni model\n",
    "CostPrice_Y=data[['V-10']]     #   predikovana hodnota pro druhy model"
   ]
  },
  {
   "cell_type": "markdown",
   "metadata": {},
   "source": [
    "Nejdrive si vytvorime priznak celkovy pocet mesicu stavby a odstranime nepotrebne priznaky"
   ]
  },
  {
   "cell_type": "code",
   "execution_count": 8,
   "metadata": {},
   "outputs": [
    {
     "data": {
      "text/html": "<div>\n<style scoped>\n    .dataframe tbody tr th:only-of-type {\n        vertical-align: middle;\n    }\n\n    .dataframe tbody tr th {\n        vertical-align: top;\n    }\n\n    .dataframe thead th {\n        text-align: right;\n    }\n</style>\n<table border=\"1\" class=\"dataframe\">\n  <thead>\n    <tr style=\"text-align: right;\">\n      <th></th>\n      <th>V-0</th>\n      <th>V-1</th>\n      <th>V-2</th>\n      <th>V-3</th>\n      <th>V-4</th>\n      <th>V-5</th>\n      <th>V-6</th>\n      <th>V-7</th>\n      <th>V-8</th>\n      <th>V-12</th>\n      <th>...</th>\n      <th>V-23</th>\n      <th>V-24</th>\n      <th>V-25</th>\n      <th>V-26</th>\n      <th>V-27</th>\n      <th>V-28</th>\n      <th>V-29</th>\n      <th>V-9</th>\n      <th>V-10</th>\n      <th>V-30</th>\n    </tr>\n  </thead>\n  <tbody>\n    <tr>\n      <th>0</th>\n      <td>85</td>\n      <td>1</td>\n      <td>3150.0</td>\n      <td>920.0</td>\n      <td>598.5</td>\n      <td>190</td>\n      <td>1010.84</td>\n      <td>16</td>\n      <td>1200</td>\n      <td>53.92</td>\n      <td>...</td>\n      <td>1755.000</td>\n      <td>8007.4</td>\n      <td>64.004</td>\n      <td>58.608</td>\n      <td>3402.236</td>\n      <td>29574.90</td>\n      <td>628132.9</td>\n      <td>2200</td>\n      <td>410</td>\n      <td>16</td>\n    </tr>\n    <tr>\n      <th>1</th>\n      <td>89</td>\n      <td>1</td>\n      <td>7600.0</td>\n      <td>1140.0</td>\n      <td>3040.0</td>\n      <td>400</td>\n      <td>963.81</td>\n      <td>23</td>\n      <td>2900</td>\n      <td>97.24</td>\n      <td>...</td>\n      <td>8647.788</td>\n      <td>8675.2</td>\n      <td>98.188</td>\n      <td>97.958</td>\n      <td>12544.810</td>\n      <td>31950.00</td>\n      <td>1188995.8</td>\n      <td>5000</td>\n      <td>1000</td>\n      <td>23</td>\n    </tr>\n    <tr>\n      <th>2</th>\n      <td>81</td>\n      <td>1</td>\n      <td>4800.0</td>\n      <td>840.0</td>\n      <td>480.0</td>\n      <td>100</td>\n      <td>689.84</td>\n      <td>15</td>\n      <td>630</td>\n      <td>38.96</td>\n      <td>...</td>\n      <td>1755.000</td>\n      <td>6161.8</td>\n      <td>42.166</td>\n      <td>34.992</td>\n      <td>1571.104</td>\n      <td>27119.60</td>\n      <td>524764.8</td>\n      <td>1200</td>\n      <td>170</td>\n      <td>15</td>\n    </tr>\n    <tr>\n      <th>3</th>\n      <td>73</td>\n      <td>1</td>\n      <td>685.0</td>\n      <td>202.0</td>\n      <td>13.7</td>\n      <td>20</td>\n      <td>459.54</td>\n      <td>4</td>\n      <td>140</td>\n      <td>11.14</td>\n      <td>...</td>\n      <td>1489.818</td>\n      <td>1528.8</td>\n      <td>10.458</td>\n      <td>9.278</td>\n      <td>522.700</td>\n      <td>18075.15</td>\n      <td>141542.6</td>\n      <td>165</td>\n      <td>30</td>\n      <td>4</td>\n    </tr>\n    <tr>\n      <th>4</th>\n      <td>90</td>\n      <td>1</td>\n      <td>3000.0</td>\n      <td>800.0</td>\n      <td>1230.0</td>\n      <td>410</td>\n      <td>631.91</td>\n      <td>13</td>\n      <td>5000</td>\n      <td>176.16</td>\n      <td>...</td>\n      <td>9272.228</td>\n      <td>9343.0</td>\n      <td>144.290</td>\n      <td>150.740</td>\n      <td>9808.600</td>\n      <td>34438.00</td>\n      <td>2318397.0</td>\n      <td>5500</td>\n      <td>700</td>\n      <td>13</td>\n    </tr>\n    <tr>\n      <th>...</th>\n      <td>...</td>\n      <td>...</td>\n      <td>...</td>\n      <td>...</td>\n      <td>...</td>\n      <td>...</td>\n      <td>...</td>\n      <td>...</td>\n      <td>...</td>\n      <td>...</td>\n      <td>...</td>\n      <td>...</td>\n      <td>...</td>\n      <td>...</td>\n      <td>...</td>\n      <td>...</td>\n      <td>...</td>\n      <td>...</td>\n      <td>...</td>\n      <td>...</td>\n      <td>...</td>\n    </tr>\n    <tr>\n      <th>367</th>\n      <td>86</td>\n      <td>20</td>\n      <td>1350.0</td>\n      <td>350.0</td>\n      <td>108.0</td>\n      <td>80</td>\n      <td>251.37</td>\n      <td>9</td>\n      <td>830</td>\n      <td>92.42</td>\n      <td>...</td>\n      <td>8548.072</td>\n      <td>8578.8</td>\n      <td>94.538</td>\n      <td>94.006</td>\n      <td>12233.302</td>\n      <td>29482.05</td>\n      <td>1067772.0</td>\n      <td>1100</td>\n      <td>150</td>\n      <td>9</td>\n    </tr>\n    <tr>\n      <th>368</th>\n      <td>82</td>\n      <td>20</td>\n      <td>600.0</td>\n      <td>150.0</td>\n      <td>36.0</td>\n      <td>60</td>\n      <td>299.55</td>\n      <td>6</td>\n      <td>570</td>\n      <td>55.48</td>\n      <td>...</td>\n      <td>2988.896</td>\n      <td>8005.8</td>\n      <td>66.168</td>\n      <td>60.886</td>\n      <td>3665.396</td>\n      <td>23479.00</td>\n      <td>648845.6</td>\n      <td>740</td>\n      <td>80</td>\n      <td>6</td>\n    </tr>\n    <tr>\n      <th>369</th>\n      <td>86</td>\n      <td>20</td>\n      <td>1900.0</td>\n      <td>430.0</td>\n      <td>285.0</td>\n      <td>150</td>\n      <td>364.41</td>\n      <td>7</td>\n      <td>640</td>\n      <td>111.38</td>\n      <td>...</td>\n      <td>8920.690</td>\n      <td>8940.2</td>\n      <td>107.640</td>\n      <td>108.684</td>\n      <td>11764.864</td>\n      <td>30216.90</td>\n      <td>1181856.2</td>\n      <td>860</td>\n      <td>220</td>\n      <td>7</td>\n    </tr>\n    <tr>\n      <th>370</th>\n      <td>84</td>\n      <td>20</td>\n      <td>510.0</td>\n      <td>160.0</td>\n      <td>30.6</td>\n      <td>60</td>\n      <td>245.28</td>\n      <td>9</td>\n      <td>790</td>\n      <td>69.60</td>\n      <td>...</td>\n      <td>8065.908</td>\n      <td>8118.6</td>\n      <td>79.512</td>\n      <td>76.556</td>\n      <td>6122.494</td>\n      <td>26394.75</td>\n      <td>833494.6</td>\n      <td>1100</td>\n      <td>110</td>\n      <td>9</td>\n    </tr>\n    <tr>\n      <th>371</th>\n      <td>81</td>\n      <td>20</td>\n      <td>890.0</td>\n      <td>230.0</td>\n      <td>35.6</td>\n      <td>40</td>\n      <td>237.03</td>\n      <td>6</td>\n      <td>350</td>\n      <td>49.08</td>\n      <td>...</td>\n      <td>1755.000</td>\n      <td>8234.6</td>\n      <td>57.476</td>\n      <td>49.152</td>\n      <td>2603.196</td>\n      <td>28750.30</td>\n      <td>601988.1</td>\n      <td>460</td>\n      <td>50</td>\n      <td>6</td>\n    </tr>\n  </tbody>\n</table>\n<p>372 rows × 30 columns</p>\n</div>",
      "text/plain": "     V-0  V-1     V-2     V-3     V-4  V-5      V-6  V-7   V-8    V-12  ...  \\\n0     85    1  3150.0   920.0   598.5  190  1010.84   16  1200   53.92  ...   \n1     89    1  7600.0  1140.0  3040.0  400   963.81   23  2900   97.24  ...   \n2     81    1  4800.0   840.0   480.0  100   689.84   15   630   38.96  ...   \n3     73    1   685.0   202.0    13.7   20   459.54    4   140   11.14  ...   \n4     90    1  3000.0   800.0  1230.0  410   631.91   13  5000  176.16  ...   \n..   ...  ...     ...     ...     ...  ...      ...  ...   ...     ...  ...   \n367   86   20  1350.0   350.0   108.0   80   251.37    9   830   92.42  ...   \n368   82   20   600.0   150.0    36.0   60   299.55    6   570   55.48  ...   \n369   86   20  1900.0   430.0   285.0  150   364.41    7   640  111.38  ...   \n370   84   20   510.0   160.0    30.6   60   245.28    9   790   69.60  ...   \n371   81   20   890.0   230.0    35.6   40   237.03    6   350   49.08  ...   \n\n         V-23    V-24     V-25     V-26       V-27      V-28       V-29   V-9  \\\n0    1755.000  8007.4   64.004   58.608   3402.236  29574.90   628132.9  2200   \n1    8647.788  8675.2   98.188   97.958  12544.810  31950.00  1188995.8  5000   \n2    1755.000  6161.8   42.166   34.992   1571.104  27119.60   524764.8  1200   \n3    1489.818  1528.8   10.458    9.278    522.700  18075.15   141542.6   165   \n4    9272.228  9343.0  144.290  150.740   9808.600  34438.00  2318397.0  5500   \n..        ...     ...      ...      ...        ...       ...        ...   ...   \n367  8548.072  8578.8   94.538   94.006  12233.302  29482.05  1067772.0  1100   \n368  2988.896  8005.8   66.168   60.886   3665.396  23479.00   648845.6   740   \n369  8920.690  8940.2  107.640  108.684  11764.864  30216.90  1181856.2   860   \n370  8065.908  8118.6   79.512   76.556   6122.494  26394.75   833494.6  1100   \n371  1755.000  8234.6   57.476   49.152   2603.196  28750.30   601988.1   460   \n\n     V-10  V-30  \n0     410    16  \n1    1000    23  \n2     170    15  \n3      30     4  \n4     700    13  \n..    ...   ...  \n367   150     9  \n368    80     6  \n369   220     7  \n370   110     9  \n371    50     6  \n\n[372 rows x 30 columns]"
     },
     "metadata": {},
     "output_type": "display_data"
    }
   ],
   "source": [
    "data['V-30']=(data['COMPLETION YEAR']-data['START YEAR'])*4+(data['COMPLETION QUARTER']-data['START QUARTER'])  #   pocet ctvrtleti, delka doby stavby\n",
    "#   ponechame pouze rok dokonceni\n",
    "#   pocet vydanych stavebnich povoleni(V-11) mi prijde zbytecny priznak\n",
    "#   odstranime i predikovane hodnoty\n",
    "to_drop = ['START YEAR','COMPLETION QUARTER','START QUARTER','V-11']\n",
    "\n",
    "#   data za prubeh 5ti let zprumerujeme, ostatni vyhodime\n",
    "for i in range(18):\n",
    "    x=11+i\n",
    "    row = data[['V-'+str(x),'V-'+str(x)+'.1','V-'+str(x)+'.2','V-'+str(x)+'.3','V-'+str(x)+'.4']]\n",
    "    data['V-'+str(x)] = row.mean(axis=1)\n",
    "\n",
    "for i, _ in data.iteritems():\n",
    "    if '.' in i:\n",
    "        to_drop.append(i)\n",
    "\n",
    "data = data.drop(columns=to_drop)\n",
    "data = data.rename(columns={'COMPLETION YEAR':'V-0'})\n",
    "display(data)"
   ]
  },
  {
   "cell_type": "markdown",
   "metadata": {},
   "source": [
    "Hledame teda priznaky, ktere by mohli ovlivnovat jednotlive predikce. Zkusime si to vyhodnotit podle koleracnich matic"
   ]
  },
  {
   "cell_type": "code",
   "execution_count": 23,
   "metadata": {},
   "outputs": [
    {
     "data": {
      "text/html": "<div>\n<style scoped>\n    .dataframe tbody tr th:only-of-type {\n        vertical-align: middle;\n    }\n\n    .dataframe tbody tr th {\n        vertical-align: top;\n    }\n\n    .dataframe thead th {\n        text-align: right;\n    }\n</style>\n<table border=\"1\" class=\"dataframe\">\n  <thead>\n    <tr style=\"text-align: right;\">\n      <th></th>\n      <th>V-0</th>\n      <th>V-4</th>\n      <th>V-5</th>\n      <th>V-8</th>\n      <th>V-12</th>\n      <th>V-13</th>\n      <th>V-15</th>\n      <th>V-16</th>\n      <th>V-17</th>\n      <th>V-18</th>\n      <th>V-19</th>\n      <th>V-21</th>\n      <th>V-22</th>\n      <th>V-23</th>\n      <th>V-24</th>\n      <th>V-25</th>\n      <th>V-26</th>\n      <th>V-27</th>\n      <th>V-29</th>\n      <th>V-10</th>\n    </tr>\n  </thead>\n  <tbody>\n    <tr>\n      <th>0</th>\n      <td>85</td>\n      <td>598.5</td>\n      <td>190</td>\n      <td>1200</td>\n      <td>53.92</td>\n      <td>59.096</td>\n      <td>282103.760</td>\n      <td>3279.76</td>\n      <td>58.220</td>\n      <td>163.152</td>\n      <td>8317.420</td>\n      <td>766.140000</td>\n      <td>824.220</td>\n      <td>1755.000</td>\n      <td>8007.4</td>\n      <td>64.004</td>\n      <td>58.608</td>\n      <td>3402.236</td>\n      <td>628132.9</td>\n      <td>410</td>\n    </tr>\n    <tr>\n      <th>1</th>\n      <td>89</td>\n      <td>3040.0</td>\n      <td>400</td>\n      <td>2900</td>\n      <td>97.24</td>\n      <td>96.642</td>\n      <td>598494.440</td>\n      <td>3683.86</td>\n      <td>98.820</td>\n      <td>171.360</td>\n      <td>11689.872</td>\n      <td>1313.860000</td>\n      <td>1410.340</td>\n      <td>8647.788</td>\n      <td>8675.2</td>\n      <td>98.188</td>\n      <td>97.958</td>\n      <td>12544.810</td>\n      <td>1188995.8</td>\n      <td>1000</td>\n    </tr>\n    <tr>\n      <th>2</th>\n      <td>81</td>\n      <td>480.0</td>\n      <td>100</td>\n      <td>630</td>\n      <td>38.96</td>\n      <td>39.874</td>\n      <td>144653.380</td>\n      <td>1274.32</td>\n      <td>33.426</td>\n      <td>178.040</td>\n      <td>4043.492</td>\n      <td>581.181700</td>\n      <td>679.752</td>\n      <td>1755.000</td>\n      <td>6161.8</td>\n      <td>42.166</td>\n      <td>34.992</td>\n      <td>1571.104</td>\n      <td>524764.8</td>\n      <td>170</td>\n    </tr>\n    <tr>\n      <th>3</th>\n      <td>73</td>\n      <td>13.7</td>\n      <td>20</td>\n      <td>140</td>\n      <td>11.14</td>\n      <td>6.970</td>\n      <td>32818.082</td>\n      <td>332.08</td>\n      <td>11.728</td>\n      <td>31.706</td>\n      <td>336.080</td>\n      <td>178.930213</td>\n      <td>188.000</td>\n      <td>1489.818</td>\n      <td>1528.8</td>\n      <td>10.458</td>\n      <td>9.278</td>\n      <td>522.700</td>\n      <td>141542.6</td>\n      <td>30</td>\n    </tr>\n    <tr>\n      <th>4</th>\n      <td>90</td>\n      <td>1230.0</td>\n      <td>410</td>\n      <td>5000</td>\n      <td>176.16</td>\n      <td>148.156</td>\n      <td>1447981.540</td>\n      <td>9359.78</td>\n      <td>190.060</td>\n      <td>283.132</td>\n      <td>49351.100</td>\n      <td>2458.040000</td>\n      <td>2709.200</td>\n      <td>9272.228</td>\n      <td>9343.0</td>\n      <td>144.290</td>\n      <td>150.740</td>\n      <td>9808.600</td>\n      <td>2318397.0</td>\n      <td>700</td>\n    </tr>\n    <tr>\n      <th>...</th>\n      <td>...</td>\n      <td>...</td>\n      <td>...</td>\n      <td>...</td>\n      <td>...</td>\n      <td>...</td>\n      <td>...</td>\n      <td>...</td>\n      <td>...</td>\n      <td>...</td>\n      <td>...</td>\n      <td>...</td>\n      <td>...</td>\n      <td>...</td>\n      <td>...</td>\n      <td>...</td>\n      <td>...</td>\n      <td>...</td>\n      <td>...</td>\n      <td>...</td>\n    </tr>\n    <tr>\n      <th>367</th>\n      <td>86</td>\n      <td>108.0</td>\n      <td>80</td>\n      <td>830</td>\n      <td>92.42</td>\n      <td>92.246</td>\n      <td>558624.500</td>\n      <td>3610.10</td>\n      <td>95.800</td>\n      <td>179.820</td>\n      <td>10346.302</td>\n      <td>1248.680000</td>\n      <td>1350.940</td>\n      <td>8548.072</td>\n      <td>8578.8</td>\n      <td>94.538</td>\n      <td>94.006</td>\n      <td>12233.302</td>\n      <td>1067772.0</td>\n      <td>150</td>\n    </tr>\n    <tr>\n      <th>368</th>\n      <td>82</td>\n      <td>36.0</td>\n      <td>60</td>\n      <td>570</td>\n      <td>55.48</td>\n      <td>60.992</td>\n      <td>300146.800</td>\n      <td>3542.98</td>\n      <td>61.700</td>\n      <td>138.352</td>\n      <td>7015.740</td>\n      <td>785.740000</td>\n      <td>848.800</td>\n      <td>2988.896</td>\n      <td>8005.8</td>\n      <td>66.168</td>\n      <td>60.886</td>\n      <td>3665.396</td>\n      <td>648845.6</td>\n      <td>80</td>\n    </tr>\n    <tr>\n      <th>369</th>\n      <td>86</td>\n      <td>285.0</td>\n      <td>150</td>\n      <td>640</td>\n      <td>111.38</td>\n      <td>104.222</td>\n      <td>726637.040</td>\n      <td>4905.96</td>\n      <td>106.420</td>\n      <td>162.900</td>\n      <td>19188.546</td>\n      <td>1592.280000</td>\n      <td>1720.640</td>\n      <td>8920.690</td>\n      <td>8940.2</td>\n      <td>107.640</td>\n      <td>108.684</td>\n      <td>11764.864</td>\n      <td>1181856.2</td>\n      <td>220</td>\n    </tr>\n    <tr>\n      <th>370</th>\n      <td>84</td>\n      <td>30.6</td>\n      <td>60</td>\n      <td>790</td>\n      <td>69.60</td>\n      <td>75.746</td>\n      <td>411145.680</td>\n      <td>4727.44</td>\n      <td>81.400</td>\n      <td>217.620</td>\n      <td>9260.250</td>\n      <td>969.180000</td>\n      <td>1098.460</td>\n      <td>8065.908</td>\n      <td>8118.6</td>\n      <td>79.512</td>\n      <td>76.556</td>\n      <td>6122.494</td>\n      <td>833494.6</td>\n      <td>110</td>\n    </tr>\n    <tr>\n      <th>371</th>\n      <td>81</td>\n      <td>35.6</td>\n      <td>40</td>\n      <td>350</td>\n      <td>49.08</td>\n      <td>56.636</td>\n      <td>215566.740</td>\n      <td>2272.78</td>\n      <td>47.140</td>\n      <td>160.140</td>\n      <td>7113.340</td>\n      <td>704.380000</td>\n      <td>771.020</td>\n      <td>1755.000</td>\n      <td>8234.6</td>\n      <td>57.476</td>\n      <td>49.152</td>\n      <td>2603.196</td>\n      <td>601988.1</td>\n      <td>50</td>\n    </tr>\n  </tbody>\n</table>\n<p>372 rows × 20 columns</p>\n</div>",
      "text/plain": "     V-0     V-4  V-5   V-8    V-12     V-13         V-15     V-16     V-17  \\\n0     85   598.5  190  1200   53.92   59.096   282103.760  3279.76   58.220   \n1     89  3040.0  400  2900   97.24   96.642   598494.440  3683.86   98.820   \n2     81   480.0  100   630   38.96   39.874   144653.380  1274.32   33.426   \n3     73    13.7   20   140   11.14    6.970    32818.082   332.08   11.728   \n4     90  1230.0  410  5000  176.16  148.156  1447981.540  9359.78  190.060   \n..   ...     ...  ...   ...     ...      ...          ...      ...      ...   \n367   86   108.0   80   830   92.42   92.246   558624.500  3610.10   95.800   \n368   82    36.0   60   570   55.48   60.992   300146.800  3542.98   61.700   \n369   86   285.0  150   640  111.38  104.222   726637.040  4905.96  106.420   \n370   84    30.6   60   790   69.60   75.746   411145.680  4727.44   81.400   \n371   81    35.6   40   350   49.08   56.636   215566.740  2272.78   47.140   \n\n        V-18       V-19         V-21      V-22      V-23    V-24     V-25  \\\n0    163.152   8317.420   766.140000   824.220  1755.000  8007.4   64.004   \n1    171.360  11689.872  1313.860000  1410.340  8647.788  8675.2   98.188   \n2    178.040   4043.492   581.181700   679.752  1755.000  6161.8   42.166   \n3     31.706    336.080   178.930213   188.000  1489.818  1528.8   10.458   \n4    283.132  49351.100  2458.040000  2709.200  9272.228  9343.0  144.290   \n..       ...        ...          ...       ...       ...     ...      ...   \n367  179.820  10346.302  1248.680000  1350.940  8548.072  8578.8   94.538   \n368  138.352   7015.740   785.740000   848.800  2988.896  8005.8   66.168   \n369  162.900  19188.546  1592.280000  1720.640  8920.690  8940.2  107.640   \n370  217.620   9260.250   969.180000  1098.460  8065.908  8118.6   79.512   \n371  160.140   7113.340   704.380000   771.020  1755.000  8234.6   57.476   \n\n        V-26       V-27       V-29  V-10  \n0     58.608   3402.236   628132.9   410  \n1     97.958  12544.810  1188995.8  1000  \n2     34.992   1571.104   524764.8   170  \n3      9.278    522.700   141542.6    30  \n4    150.740   9808.600  2318397.0   700  \n..       ...        ...        ...   ...  \n367   94.006  12233.302  1067772.0   150  \n368   60.886   3665.396   648845.6    80  \n369  108.684  11764.864  1181856.2   220  \n370   76.556   6122.494   833494.6   110  \n371   49.152   2603.196   601988.1    50  \n\n[372 rows x 20 columns]"
     },
     "metadata": {},
     "output_type": "display_data"
    },
    {
     "data": {
      "text/html": "<div>\n<style scoped>\n    .dataframe tbody tr th:only-of-type {\n        vertical-align: middle;\n    }\n\n    .dataframe tbody tr th {\n        vertical-align: top;\n    }\n\n    .dataframe thead th {\n        text-align: right;\n    }\n</style>\n<table border=\"1\" class=\"dataframe\">\n  <thead>\n    <tr style=\"text-align: right;\">\n      <th></th>\n      <th>V-0</th>\n      <th>V-4</th>\n      <th>V-5</th>\n      <th>V-8</th>\n      <th>V-12</th>\n      <th>V-13</th>\n      <th>V-15</th>\n      <th>V-16</th>\n      <th>V-17</th>\n      <th>V-18</th>\n      <th>...</th>\n      <th>V-21</th>\n      <th>V-22</th>\n      <th>V-23</th>\n      <th>V-24</th>\n      <th>V-25</th>\n      <th>V-26</th>\n      <th>V-27</th>\n      <th>V-28</th>\n      <th>V-29</th>\n      <th>V-9</th>\n    </tr>\n  </thead>\n  <tbody>\n    <tr>\n      <th>0</th>\n      <td>85</td>\n      <td>598.5</td>\n      <td>190</td>\n      <td>1200</td>\n      <td>53.92</td>\n      <td>59.096</td>\n      <td>282103.760</td>\n      <td>3279.76</td>\n      <td>58.220</td>\n      <td>163.152</td>\n      <td>...</td>\n      <td>766.140000</td>\n      <td>824.220</td>\n      <td>1755.000</td>\n      <td>8007.4</td>\n      <td>64.004</td>\n      <td>58.608</td>\n      <td>3402.236</td>\n      <td>29574.90</td>\n      <td>628132.9</td>\n      <td>2200</td>\n    </tr>\n    <tr>\n      <th>1</th>\n      <td>89</td>\n      <td>3040.0</td>\n      <td>400</td>\n      <td>2900</td>\n      <td>97.24</td>\n      <td>96.642</td>\n      <td>598494.440</td>\n      <td>3683.86</td>\n      <td>98.820</td>\n      <td>171.360</td>\n      <td>...</td>\n      <td>1313.860000</td>\n      <td>1410.340</td>\n      <td>8647.788</td>\n      <td>8675.2</td>\n      <td>98.188</td>\n      <td>97.958</td>\n      <td>12544.810</td>\n      <td>31950.00</td>\n      <td>1188995.8</td>\n      <td>5000</td>\n    </tr>\n    <tr>\n      <th>2</th>\n      <td>81</td>\n      <td>480.0</td>\n      <td>100</td>\n      <td>630</td>\n      <td>38.96</td>\n      <td>39.874</td>\n      <td>144653.380</td>\n      <td>1274.32</td>\n      <td>33.426</td>\n      <td>178.040</td>\n      <td>...</td>\n      <td>581.181700</td>\n      <td>679.752</td>\n      <td>1755.000</td>\n      <td>6161.8</td>\n      <td>42.166</td>\n      <td>34.992</td>\n      <td>1571.104</td>\n      <td>27119.60</td>\n      <td>524764.8</td>\n      <td>1200</td>\n    </tr>\n    <tr>\n      <th>3</th>\n      <td>73</td>\n      <td>13.7</td>\n      <td>20</td>\n      <td>140</td>\n      <td>11.14</td>\n      <td>6.970</td>\n      <td>32818.082</td>\n      <td>332.08</td>\n      <td>11.728</td>\n      <td>31.706</td>\n      <td>...</td>\n      <td>178.930213</td>\n      <td>188.000</td>\n      <td>1489.818</td>\n      <td>1528.8</td>\n      <td>10.458</td>\n      <td>9.278</td>\n      <td>522.700</td>\n      <td>18075.15</td>\n      <td>141542.6</td>\n      <td>165</td>\n    </tr>\n    <tr>\n      <th>4</th>\n      <td>90</td>\n      <td>1230.0</td>\n      <td>410</td>\n      <td>5000</td>\n      <td>176.16</td>\n      <td>148.156</td>\n      <td>1447981.540</td>\n      <td>9359.78</td>\n      <td>190.060</td>\n      <td>283.132</td>\n      <td>...</td>\n      <td>2458.040000</td>\n      <td>2709.200</td>\n      <td>9272.228</td>\n      <td>9343.0</td>\n      <td>144.290</td>\n      <td>150.740</td>\n      <td>9808.600</td>\n      <td>34438.00</td>\n      <td>2318397.0</td>\n      <td>5500</td>\n    </tr>\n    <tr>\n      <th>...</th>\n      <td>...</td>\n      <td>...</td>\n      <td>...</td>\n      <td>...</td>\n      <td>...</td>\n      <td>...</td>\n      <td>...</td>\n      <td>...</td>\n      <td>...</td>\n      <td>...</td>\n      <td>...</td>\n      <td>...</td>\n      <td>...</td>\n      <td>...</td>\n      <td>...</td>\n      <td>...</td>\n      <td>...</td>\n      <td>...</td>\n      <td>...</td>\n      <td>...</td>\n      <td>...</td>\n    </tr>\n    <tr>\n      <th>367</th>\n      <td>86</td>\n      <td>108.0</td>\n      <td>80</td>\n      <td>830</td>\n      <td>92.42</td>\n      <td>92.246</td>\n      <td>558624.500</td>\n      <td>3610.10</td>\n      <td>95.800</td>\n      <td>179.820</td>\n      <td>...</td>\n      <td>1248.680000</td>\n      <td>1350.940</td>\n      <td>8548.072</td>\n      <td>8578.8</td>\n      <td>94.538</td>\n      <td>94.006</td>\n      <td>12233.302</td>\n      <td>29482.05</td>\n      <td>1067772.0</td>\n      <td>1100</td>\n    </tr>\n    <tr>\n      <th>368</th>\n      <td>82</td>\n      <td>36.0</td>\n      <td>60</td>\n      <td>570</td>\n      <td>55.48</td>\n      <td>60.992</td>\n      <td>300146.800</td>\n      <td>3542.98</td>\n      <td>61.700</td>\n      <td>138.352</td>\n      <td>...</td>\n      <td>785.740000</td>\n      <td>848.800</td>\n      <td>2988.896</td>\n      <td>8005.8</td>\n      <td>66.168</td>\n      <td>60.886</td>\n      <td>3665.396</td>\n      <td>23479.00</td>\n      <td>648845.6</td>\n      <td>740</td>\n    </tr>\n    <tr>\n      <th>369</th>\n      <td>86</td>\n      <td>285.0</td>\n      <td>150</td>\n      <td>640</td>\n      <td>111.38</td>\n      <td>104.222</td>\n      <td>726637.040</td>\n      <td>4905.96</td>\n      <td>106.420</td>\n      <td>162.900</td>\n      <td>...</td>\n      <td>1592.280000</td>\n      <td>1720.640</td>\n      <td>8920.690</td>\n      <td>8940.2</td>\n      <td>107.640</td>\n      <td>108.684</td>\n      <td>11764.864</td>\n      <td>30216.90</td>\n      <td>1181856.2</td>\n      <td>860</td>\n    </tr>\n    <tr>\n      <th>370</th>\n      <td>84</td>\n      <td>30.6</td>\n      <td>60</td>\n      <td>790</td>\n      <td>69.60</td>\n      <td>75.746</td>\n      <td>411145.680</td>\n      <td>4727.44</td>\n      <td>81.400</td>\n      <td>217.620</td>\n      <td>...</td>\n      <td>969.180000</td>\n      <td>1098.460</td>\n      <td>8065.908</td>\n      <td>8118.6</td>\n      <td>79.512</td>\n      <td>76.556</td>\n      <td>6122.494</td>\n      <td>26394.75</td>\n      <td>833494.6</td>\n      <td>1100</td>\n    </tr>\n    <tr>\n      <th>371</th>\n      <td>81</td>\n      <td>35.6</td>\n      <td>40</td>\n      <td>350</td>\n      <td>49.08</td>\n      <td>56.636</td>\n      <td>215566.740</td>\n      <td>2272.78</td>\n      <td>47.140</td>\n      <td>160.140</td>\n      <td>...</td>\n      <td>704.380000</td>\n      <td>771.020</td>\n      <td>1755.000</td>\n      <td>8234.6</td>\n      <td>57.476</td>\n      <td>49.152</td>\n      <td>2603.196</td>\n      <td>28750.30</td>\n      <td>601988.1</td>\n      <td>460</td>\n    </tr>\n  </tbody>\n</table>\n<p>372 rows × 21 columns</p>\n</div>",
      "text/plain": "     V-0     V-4  V-5   V-8    V-12     V-13         V-15     V-16     V-17  \\\n0     85   598.5  190  1200   53.92   59.096   282103.760  3279.76   58.220   \n1     89  3040.0  400  2900   97.24   96.642   598494.440  3683.86   98.820   \n2     81   480.0  100   630   38.96   39.874   144653.380  1274.32   33.426   \n3     73    13.7   20   140   11.14    6.970    32818.082   332.08   11.728   \n4     90  1230.0  410  5000  176.16  148.156  1447981.540  9359.78  190.060   \n..   ...     ...  ...   ...     ...      ...          ...      ...      ...   \n367   86   108.0   80   830   92.42   92.246   558624.500  3610.10   95.800   \n368   82    36.0   60   570   55.48   60.992   300146.800  3542.98   61.700   \n369   86   285.0  150   640  111.38  104.222   726637.040  4905.96  106.420   \n370   84    30.6   60   790   69.60   75.746   411145.680  4727.44   81.400   \n371   81    35.6   40   350   49.08   56.636   215566.740  2272.78   47.140   \n\n        V-18  ...         V-21      V-22      V-23    V-24     V-25     V-26  \\\n0    163.152  ...   766.140000   824.220  1755.000  8007.4   64.004   58.608   \n1    171.360  ...  1313.860000  1410.340  8647.788  8675.2   98.188   97.958   \n2    178.040  ...   581.181700   679.752  1755.000  6161.8   42.166   34.992   \n3     31.706  ...   178.930213   188.000  1489.818  1528.8   10.458    9.278   \n4    283.132  ...  2458.040000  2709.200  9272.228  9343.0  144.290  150.740   \n..       ...  ...          ...       ...       ...     ...      ...      ...   \n367  179.820  ...  1248.680000  1350.940  8548.072  8578.8   94.538   94.006   \n368  138.352  ...   785.740000   848.800  2988.896  8005.8   66.168   60.886   \n369  162.900  ...  1592.280000  1720.640  8920.690  8940.2  107.640  108.684   \n370  217.620  ...   969.180000  1098.460  8065.908  8118.6   79.512   76.556   \n371  160.140  ...   704.380000   771.020  1755.000  8234.6   57.476   49.152   \n\n          V-27      V-28       V-29   V-9  \n0     3402.236  29574.90   628132.9  2200  \n1    12544.810  31950.00  1188995.8  5000  \n2     1571.104  27119.60   524764.8  1200  \n3      522.700  18075.15   141542.6   165  \n4     9808.600  34438.00  2318397.0  5500  \n..         ...       ...        ...   ...  \n367  12233.302  29482.05  1067772.0  1100  \n368   3665.396  23479.00   648845.6   740  \n369  11764.864  30216.90  1181856.2   860  \n370   6122.494  26394.75   833494.6  1100  \n371   2603.196  28750.30   601988.1   460  \n\n[372 rows x 21 columns]"
     },
     "metadata": {},
     "output_type": "display_data"
    }
   ],
   "source": [
    "def bestColumns(data):\n",
    "    corrMatrix = data.corr().abs()\n",
    "    # print(corrMatrix)\n",
    "    #   hledame hodnoty blizke 1 nebo -1, (tedy absolutni hodnota je blizka 1) pro priznaky V-9 a V-10\n",
    "    # print(corrMatrix['V-9'])\n",
    "    # print(corrMatrix['V-10'])\n",
    "\n",
    "    SalePrice_X_t = pd.DataFrame(corrMatrix['V-9'], columns=['V-9']).sort_values(by=['V-9'],ascending=False)\n",
    "    CostPrice_X_t = pd.DataFrame(corrMatrix['V-10'], columns=['V-10']).sort_values(by=['V-10'],ascending=False)\n",
    "\n",
    "\n",
    "    SalePrice_X_t = SalePrice_X_t.T.apply(lambda x: x>0.5).T\n",
    "    CostPrice_X_t = CostPrice_X_t.T.apply(lambda x: x>0.5).T\n",
    "\n",
    "    # display(SalePrice_X_t.T)\n",
    "    # display(CostPrice_X_t.T)\n",
    "\n",
    "    #   vyseparujeme si data z pudovnich pro trenovani a testovani\n",
    "    cols = data.columns\n",
    "    SalePrice_X = pd.DataFrame([])\n",
    "    CostPrice_X = pd.DataFrame([])\n",
    "\n",
    "    for col in cols:\n",
    "        if col in SalePrice_X_t.T and SalePrice_X_t.T[col]['V-9'] == True and col!='V-9':\n",
    "            SalePrice_X[col] = data[col]\n",
    "        if col in CostPrice_X_t.T and CostPrice_X_t.T[col]['V-10'] == True and col!='V-10':\n",
    "            CostPrice_X[col] = data[col]\n",
    "    return CostPrice_X,SalePrice_X\n",
    "\n",
    "CostPrice_X,SalePrice_X=bestColumns(data)\n",
    "display(SalePrice_X)\n",
    "display(CostPrice_X)"
   ]
  },
  {
   "cell_type": "markdown",
   "metadata": {},
   "source": [
    "Vidíme, že v obou případech je jedna predikovana hodnota závislá na té druhé a naopak. Můžeme buď odstranit z obou tabulek druhou predikovanou hodnotu, nebo muzeme odstranit pouze z jednoho s podminkou, ze ta nezavisla bude hodnocena prednostne. odstranim pouze zavislost v CostPrice na V-9"
   ]
  },
  {
   "cell_type": "code",
   "execution_count": 24,
   "metadata": {},
   "outputs": [],
   "source": [
    "CostPrice_X = CostPrice_X.drop(columns=['V-9'])\n",
    "# SalePrice_X = SalePrice_X.drop(columns=['V-10'])"
   ]
  },
  {
   "cell_type": "markdown",
   "metadata": {},
   "source": [
    "vytvorime si funkce na rozdeleni dat a nejake vizualizace"
   ]
  },
  {
   "cell_type": "code",
   "execution_count": 25,
   "metadata": {},
   "outputs": [],
   "source": [
    "def splitData(x_data,y_data):\n",
    "    X_train, X_test, Y_train, Y_test = train_test_split(x_data, y_data, test_size=0.25, random_state=42)\n",
    "    print('Train X shape: ', X_train.shape)\n",
    "    print('Test X shape: ', X_test.shape)\n",
    "    return X_train, X_test, Y_train, Y_test\n",
    "\n",
    "def visualization(data,linear):   \n",
    "    plt.scatter(data, linear)\n",
    "    plt.plot([0,50], [0,50], 'r')\n",
    "    plt.show() "
   ]
  },
  {
   "cell_type": "markdown",
   "metadata": {},
   "source": [
    "Nyní si vytvoříme modely nejdříve pro nestandardizovaná data"
   ]
  },
  {
   "cell_type": "code",
   "execution_count": 26,
   "metadata": {},
   "outputs": [
    {
     "name": "stdout",
     "output_type": "stream",
     "text": "COST_PRICE --> V-10\nTrain X shape:  (279, 20)\nTest X shape:  (93, 20)\nlinear regression MAE: 4.458157755225569\nridge regression MAE: 4.458157755225569\nrandom forest regression MAE: 4.458157755225569\n\n------------------------------------------------------------------\n\nSALE_PRICE --> V-9\nTrain X shape:  (279, 20)\nTest X shape:  (93, 20)\nlinear regression MAE: 11.380832283166784\nridge regression MAE: 11.380832283166784\nrandom forest regression MAE: 11.380832283166784\n"
    }
   ],
   "source": [
    "#   CostPrice predikce\n",
    "print(\"COST_PRICE --> V-10\")\n",
    "cp_x_tr,cp_x_test,cp_y_tr,cp_y_test = splitData(CostPrice_X,CostPrice_Y)\n",
    "\n",
    "#   n- nestandardizovana, cp- costPrice, tr- train data, lr- linear regression, rr- ridge regression, fr- random forest regresion\n",
    "n_cp_lr = LinearRegression()\n",
    "n_cp_lr.fit(cp_x_tr,cp_y_tr)\n",
    "n_cp_Yth = n_cp_lr.predict(cp_x_test)\n",
    "print('linear regression MAE:', np.sqrt(mean_absolute_error(n_cp_Yth, np.array(cp_y_test))))\n",
    "\n",
    "n_cp_rr = Ridge()\n",
    "n_cp_rr.fit(cp_x_tr,cp_y_tr)\n",
    "n_cp_Yth = n_cp_lr.predict(cp_x_test)\n",
    "print('ridge regression MAE:', np.sqrt(mean_absolute_error(n_cp_Yth, np.array(cp_y_test))))\n",
    "\n",
    "n_cp_fr = RandomForestRegressor()\n",
    "n_cp_fr.fit(cp_x_tr,cp_y_tr)\n",
    "n_cp_Yth = n_cp_lr.predict(cp_x_test)\n",
    "print('random forest regression MAE:', np.sqrt(mean_absolute_error(n_cp_Yth, np.array(cp_y_test))))\n",
    "\n",
    "\n",
    "print(\"\\n------------------------------------------------------------------\\n\")\n",
    "#   SalePrice predikce\n",
    "print(\"SALE_PRICE --> V-9\")\n",
    "sp_x_tr,sp_x_test,sp_y_tr,sp_y_test = splitData(SalePrice_X,SalePrice_Y)\n",
    "\n",
    "n_sp_lr = LinearRegression()\n",
    "n_sp_lr.fit(sp_x_tr,sp_y_tr)\n",
    "n_sp_Yth = n_sp_lr.predict(sp_x_test)\n",
    "print('linear regression MAE:', np.sqrt(mean_absolute_error(n_sp_Yth, np.array(sp_y_test))))\n",
    "\n",
    "n_sp_rr = Ridge()\n",
    "n_sp_rr.fit(sp_x_tr,sp_y_tr)\n",
    "n_sp_Yth = n_sp_lr.predict(sp_x_test)\n",
    "print('ridge regression MAE:', np.sqrt(mean_absolute_error(n_sp_Yth, np.array(sp_y_test))))\n",
    "\n",
    "n_sp_fr = RandomForestRegressor()\n",
    "n_sp_fr.fit(sp_x_tr,sp_y_tr)\n",
    "n_sp_Yth = n_sp_lr.predict(sp_x_test)\n",
    "print('random forest regression MAE:', np.sqrt(mean_absolute_error(n_sp_Yth, np.array(sp_y_test))))"
   ]
  },
  {
   "cell_type": "markdown",
   "metadata": {},
   "source": [
    "zkusime data standardizovat pomoci standardScaler"
   ]
  },
  {
   "cell_type": "code",
   "execution_count": 27,
   "metadata": {},
   "outputs": [],
   "source": [
    "scaler = StandardScaler()\n",
    "scaler.fit(data)\n",
    "s_data = pd.DataFrame(scaler.transform(data),columns=(data.columns))\n",
    "# display(s_data)\n",
    "\n",
    "s_CostPrice_X, s_SalePrice_X = bestColumns(s_data)\n",
    "s_CostPrice_X = s_CostPrice_X.drop(columns=['V-9'])\n",
    "# s_SalePrice_X = s_SalePrice_X.drop(columns=['V-10'])\n",
    "\n",
    "s_SalePrice_Y=s_data[['V-9']]      \n",
    "s_CostPrice_Y=s_data[['V-10']] "
   ]
  },
  {
   "cell_type": "markdown",
   "metadata": {},
   "source": [
    "A naucime nove modely na standardizovana data"
   ]
  },
  {
   "cell_type": "code",
   "execution_count": 28,
   "metadata": {},
   "outputs": [
    {
     "name": "stdout",
     "output_type": "stream",
     "text": "COST_PRICE --> V-10\nTrain X shape:  (279, 20)\nTest X shape:  (93, 20)\nlinear regression MAE: 52.68953484287594\nridge regression MAE: 52.68953484287594\nrandom forest regression MAE: 52.68953484287594\n\n------------------------------------------------------------------\n\nSALE_PRICE --> V-9\nTrain X shape:  (279, 20)\nTest X shape:  (93, 20)\nlinear regression MAE: 15.184433734241912\nridge regression MAE: 15.184433734241912\nrandom forest regression MAE: 15.184433734241912\n"
    }
   ],
   "source": [
    "#   CostPrice predikce\n",
    "print(\"COST_PRICE --> V-10\")\n",
    "cp_x_tr,cp_x_test,cp_y_tr,cp_y_test = splitData(s_CostPrice_X,s_CostPrice_Y)\n",
    "\n",
    "#   s- standardizovana, cp- costPrice, tr- train data, lr- linear regression, rr- ridge regression, fr- logistic regresion\n",
    "s_cp_lr = LinearRegression()\n",
    "s_cp_lr.fit(cp_x_tr,cp_y_tr)\n",
    "s_cp_Yth = n_cp_lr.predict(cp_x_test)\n",
    "print('linear regression MAE:', np.sqrt(mean_absolute_error(s_cp_Yth, np.array(cp_y_test))))\n",
    "\n",
    "s_cp_rr = Ridge()\n",
    "s_cp_rr.fit(cp_x_tr,cp_y_tr)\n",
    "s_cp_Yth = n_cp_lr.predict(cp_x_test)\n",
    "print('ridge regression MAE:', np.sqrt(mean_absolute_error(s_cp_Yth, np.array(cp_y_test))))\n",
    "\n",
    "s_cp_fr = RandomForestRegressor()\n",
    "s_cp_fr.fit(cp_x_tr,cp_y_tr)\n",
    "s_cp_Yth = n_cp_lr.predict(cp_x_test)\n",
    "print('random forest regression MAE:', np.sqrt(mean_absolute_error(s_cp_Yth, np.array(cp_y_test))))\n",
    "\n",
    "\n",
    "print(\"\\n------------------------------------------------------------------\\n\")\n",
    "#   SalePrice predikce\n",
    "print(\"SALE_PRICE --> V-9\")\n",
    "sp_x_tr,sp_x_test,sp_y_tr,sp_y_test = splitData(s_SalePrice_X,s_SalePrice_Y)\n",
    "\n",
    "s_sp_lr = LinearRegression()\n",
    "s_sp_lr.fit(sp_x_tr,sp_y_tr)\n",
    "s_sp_Yth = n_sp_lr.predict(sp_x_test)\n",
    "print('linear regression MAE:', np.sqrt(mean_absolute_error(s_sp_Yth, np.array(sp_y_test))))\n",
    "\n",
    "s_sp_rr = Ridge()\n",
    "s_sp_rr.fit(sp_x_tr,sp_y_tr)\n",
    "s_sp_Yth = n_sp_lr.predict(sp_x_test)\n",
    "print('ridge regression MAE:', np.sqrt(mean_absolute_error(s_sp_Yth, np.array(sp_y_test))))\n",
    "\n",
    "s_sp_fr = RandomForestRegressor()\n",
    "s_sp_fr.fit(sp_x_tr,sp_y_tr)\n",
    "s_sp_Yth = n_sp_lr.predict(sp_x_test)\n",
    "print('random forest regression MAE:', np.sqrt(mean_absolute_error(s_sp_Yth, np.array(sp_y_test))))"
   ]
  }
 ],
 "metadata": {
  "kernelspec": {
   "display_name": "Python 3",
   "language": "python",
   "name": "python3"
  },
  "language_info": {
   "codemirror_mode": {
    "name": "ipython",
    "version": 3
   },
   "file_extension": ".py",
   "mimetype": "text/x-python",
   "name": "python",
   "nbconvert_exporter": "python",
   "pygments_lexer": "ipython3",
   "version": "3.6.8-final"
  }
 },
 "nbformat": 4,
 "nbformat_minor": 4
}