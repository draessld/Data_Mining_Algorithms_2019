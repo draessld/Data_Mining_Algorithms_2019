{
 "cells": [
  {
   "cell_type": "markdown",
   "metadata": {},
   "source": [
    "# Úkol č. 4 - regrese (do 2. ledna)\n",
    "\n",
    "  * Cílem tohoto úkolu je vyzkoušet si řešit regresní problém na reálných (ale celkem vyčištěných) datech.\n",
    "  \n",
    "> **Nejdůležitější na úkolu je to, abyste udělali vše procesně správně: korektní rozdělení datasetu, ladění hyperparametrů, vyhodnocení výsledků atp.**\n",
    "\n",
    "## Dataset\n",
    "\n",
    "  * Zdrojem dat je list *Data* v souboru `Residential-Building-Data-Set.xlsx` na course pages (originál zde: https://archive.ics.uci.edu/ml/datasets/Residential+Building+Data+Set#).\n",
    "  * Popis datasetu najdete na listu *Descriptions* ve stejném souboru.\n",
    "  \n",
    "\n",
    "## Pokyny k vypracování\n",
    "\n",
    "  1. Rozdělte data na trénovací a testovací množinu.\n",
    "  1. Proveďte základní průzkum dat a příp. vyhoďte nezajímavé příznaky.\n",
    "  1. Aplikujte lineární a hřebenovou regresi a výsledky řádně vyhodnoťte:\n",
    "    * K měření chyby použijte `mean_absolute_error`.\n",
    "    * Experimentujte s tvorbou nových příznaků (na základě těch dostupných).\n",
    "    * Experimentujte se standardizací/normalizací dat.\n",
    "    * Vyberte si hyperparametry modelů k ladění a najděte jejich nejlepší hodnoty.\n",
    "  1. Použijte i jiný model než jen lineární a hřebenovou regresi.\n",
    "\n",
    "\n",
    "## Poznámky k odevzdání\n",
    "\n",
    "  * Řiďte se pokyny ze stránky https://courses.fit.cvut.cz/BI-VZD/homeworks/index.html.\n",
    "  * Odevzdejte pouze tento Jupyter Notebook, opravujíví by neměl nic jiného potřebovat.\n",
    "  * Opravující Vám může umožnit úkol dodělat či opravit a získat tak další body. První verze je ale důležitá a bude-li odbytá, budete za to penalizováni."
   ]
  },
  {
   "cell_type": "code",
   "execution_count": 1,
   "metadata": {},
   "outputs": [],
   "source": [
    "# odtud už je to Vaše\n",
    "import pandas as pd\n",
    "\n",
    "\n",
    "\n"
   ]
  },
  {
   "cell_type": "code",
   "execution_count": 6,
   "metadata": {},
   "outputs": [
    {
     "data": {
      "text/html": "<div>\n<style scoped>\n    .dataframe tbody tr th:only-of-type {\n        vertical-align: middle;\n    }\n\n    .dataframe tbody tr th {\n        vertical-align: top;\n    }\n\n    .dataframe thead th {\n        text-align: right;\n    }\n</style>\n<table border=\"1\" class=\"dataframe\">\n  <thead>\n    <tr style=\"text-align: right;\">\n      <th></th>\n      <th>PROJECT DATES (PERSIAN CALENDAR)</th>\n      <th>Unnamed: 1</th>\n      <th>Unnamed: 2</th>\n      <th>Unnamed: 3</th>\n      <th>PROJECT PHYSICAL AND FINANCIAL VARIABLES</th>\n      <th>Unnamed: 5</th>\n      <th>Unnamed: 6</th>\n      <th>Unnamed: 7</th>\n      <th>Unnamed: 8</th>\n      <th>Unnamed: 9</th>\n      <th>...</th>\n      <th>Unnamed: 99</th>\n      <th>Unnamed: 100</th>\n      <th>Unnamed: 101</th>\n      <th>Unnamed: 102</th>\n      <th>Unnamed: 103</th>\n      <th>Unnamed: 104</th>\n      <th>Unnamed: 105</th>\n      <th>Unnamed: 106</th>\n      <th>OUTPUTS</th>\n      <th>Unnamed: 108</th>\n    </tr>\n  </thead>\n  <tbody>\n    <tr>\n      <th>0</th>\n      <td>START YEAR</td>\n      <td>START QUARTER</td>\n      <td>COMPLETION YEAR</td>\n      <td>COMPLETION QUARTER</td>\n      <td>V-1</td>\n      <td>V-2</td>\n      <td>V-3</td>\n      <td>V-4</td>\n      <td>V-5</td>\n      <td>V-6</td>\n      <td>...</td>\n      <td>V-22</td>\n      <td>V-23</td>\n      <td>V-24</td>\n      <td>V-25</td>\n      <td>V-26</td>\n      <td>V-27</td>\n      <td>V-28</td>\n      <td>V-29</td>\n      <td>V-9</td>\n      <td>V-10</td>\n    </tr>\n    <tr>\n      <th>1</th>\n      <td>81</td>\n      <td>1</td>\n      <td>85</td>\n      <td>1</td>\n      <td>1</td>\n      <td>3150</td>\n      <td>920</td>\n      <td>598.5</td>\n      <td>190</td>\n      <td>1010.84</td>\n      <td>...</td>\n      <td>815.5</td>\n      <td>1755</td>\n      <td>8002</td>\n      <td>60.74</td>\n      <td>54.26</td>\n      <td>2978.26</td>\n      <td>41407</td>\n      <td>601988</td>\n      <td>2200</td>\n      <td>410</td>\n    </tr>\n    <tr>\n      <th>2</th>\n      <td>84</td>\n      <td>1</td>\n      <td>89</td>\n      <td>4</td>\n      <td>1</td>\n      <td>7600</td>\n      <td>1140</td>\n      <td>3040</td>\n      <td>400</td>\n      <td>963.81</td>\n      <td>...</td>\n      <td>1316.3</td>\n      <td>8364.78</td>\n      <td>8393</td>\n      <td>90.95</td>\n      <td>89.79</td>\n      <td>11379.4</td>\n      <td>44835</td>\n      <td>929027</td>\n      <td>5000</td>\n      <td>1000</td>\n    </tr>\n    <tr>\n      <th>3</th>\n      <td>78</td>\n      <td>1</td>\n      <td>81</td>\n      <td>4</td>\n      <td>1</td>\n      <td>4800</td>\n      <td>840</td>\n      <td>480</td>\n      <td>100</td>\n      <td>689.84</td>\n      <td>...</td>\n      <td>765.8</td>\n      <td>1755</td>\n      <td>4930</td>\n      <td>38.7</td>\n      <td>32.04</td>\n      <td>1653.06</td>\n      <td>37933</td>\n      <td>377829</td>\n      <td>1200</td>\n      <td>170</td>\n    </tr>\n    <tr>\n      <th>4</th>\n      <td>72</td>\n      <td>2</td>\n      <td>73</td>\n      <td>2</td>\n      <td>1</td>\n      <td>685</td>\n      <td>202</td>\n      <td>13.7</td>\n      <td>20</td>\n      <td>459.54</td>\n      <td>...</td>\n      <td>152.25</td>\n      <td>1442.31</td>\n      <td>1456</td>\n      <td>9.73</td>\n      <td>8.34</td>\n      <td>686.16</td>\n      <td>8194</td>\n      <td>122032</td>\n      <td>165</td>\n      <td>30</td>\n    </tr>\n    <tr>\n      <th>...</th>\n      <td>...</td>\n      <td>...</td>\n      <td>...</td>\n      <td>...</td>\n      <td>...</td>\n      <td>...</td>\n      <td>...</td>\n      <td>...</td>\n      <td>...</td>\n      <td>...</td>\n      <td>...</td>\n      <td>...</td>\n      <td>...</td>\n      <td>...</td>\n      <td>...</td>\n      <td>...</td>\n      <td>...</td>\n      <td>...</td>\n      <td>...</td>\n      <td>...</td>\n      <td>...</td>\n    </tr>\n    <tr>\n      <th>368</th>\n      <td>83</td>\n      <td>4</td>\n      <td>86</td>\n      <td>1</td>\n      <td>20</td>\n      <td>1350</td>\n      <td>350</td>\n      <td>108</td>\n      <td>80</td>\n      <td>251.37</td>\n      <td>...</td>\n      <td>1176.5</td>\n      <td>8343.6</td>\n      <td>8382</td>\n      <td>87.27</td>\n      <td>85.56</td>\n      <td>10555.5</td>\n      <td>33626.2</td>\n      <td>865879</td>\n      <td>1100</td>\n      <td>150</td>\n    </tr>\n    <tr>\n      <th>369</th>\n      <td>81</td>\n      <td>2</td>\n      <td>82</td>\n      <td>4</td>\n      <td>20</td>\n      <td>600</td>\n      <td>150</td>\n      <td>36</td>\n      <td>60</td>\n      <td>299.55</td>\n      <td>...</td>\n      <td>815.5</td>\n      <td>1755</td>\n      <td>8013</td>\n      <td>62.78</td>\n      <td>56.45</td>\n      <td>3387.72</td>\n      <td>10646.8</td>\n      <td>606524</td>\n      <td>740</td>\n      <td>80</td>\n    </tr>\n    <tr>\n      <th>370</th>\n      <td>84</td>\n      <td>4</td>\n      <td>86</td>\n      <td>3</td>\n      <td>20</td>\n      <td>1900</td>\n      <td>430</td>\n      <td>285</td>\n      <td>150</td>\n      <td>364.41</td>\n      <td>...</td>\n      <td>1584.3</td>\n      <td>8776.71</td>\n      <td>8799</td>\n      <td>101</td>\n      <td>101.89</td>\n      <td>13571.8</td>\n      <td>34474.5</td>\n      <td>1067772</td>\n      <td>860</td>\n      <td>220</td>\n    </tr>\n    <tr>\n      <th>371</th>\n      <td>82</td>\n      <td>3</td>\n      <td>84</td>\n      <td>4</td>\n      <td>20</td>\n      <td>510</td>\n      <td>160</td>\n      <td>30.6</td>\n      <td>60</td>\n      <td>245.28</td>\n      <td>...</td>\n      <td>909.2</td>\n      <td>7930.66</td>\n      <td>8004</td>\n      <td>73.57</td>\n      <td>69.26</td>\n      <td>4756.68</td>\n      <td>21855</td>\n      <td>669640</td>\n      <td>1100</td>\n      <td>110</td>\n    </tr>\n    <tr>\n      <th>372</th>\n      <td>80</td>\n      <td>1</td>\n      <td>81</td>\n      <td>3</td>\n      <td>20</td>\n      <td>890</td>\n      <td>230</td>\n      <td>35.6</td>\n      <td>40</td>\n      <td>237.03</td>\n      <td>...</td>\n      <td>764.5</td>\n      <td>1755</td>\n      <td>8420</td>\n      <td>54.62</td>\n      <td>44.79</td>\n      <td>2206.19</td>\n      <td>40234</td>\n      <td>629797</td>\n      <td>460</td>\n      <td>50</td>\n    </tr>\n  </tbody>\n</table>\n<p>373 rows × 109 columns</p>\n</div>",
      "text/plain": "    PROJECT DATES (PERSIAN CALENDAR)     Unnamed: 1       Unnamed: 2  \\\n0                         START YEAR  START QUARTER  COMPLETION YEAR   \n1                                 81              1               85   \n2                                 84              1               89   \n3                                 78              1               81   \n4                                 72              2               73   \n..                               ...            ...              ...   \n368                               83              4               86   \n369                               81              2               82   \n370                               84              4               86   \n371                               82              3               84   \n372                               80              1               81   \n\n             Unnamed: 3 PROJECT PHYSICAL AND FINANCIAL VARIABLES Unnamed: 5  \\\n0    COMPLETION QUARTER                                      V-1        V-2   \n1                     1                                        1       3150   \n2                     4                                        1       7600   \n3                     4                                        1       4800   \n4                     2                                        1        685   \n..                  ...                                      ...        ...   \n368                   1                                       20       1350   \n369                   4                                       20        600   \n370                   3                                       20       1900   \n371                   4                                       20        510   \n372                   3                                       20        890   \n\n    Unnamed: 6 Unnamed: 7 Unnamed: 8 Unnamed: 9  ... Unnamed: 99 Unnamed: 100  \\\n0          V-3        V-4        V-5        V-6  ...        V-22         V-23   \n1          920      598.5        190    1010.84  ...       815.5         1755   \n2         1140       3040        400     963.81  ...      1316.3      8364.78   \n3          840        480        100     689.84  ...       765.8         1755   \n4          202       13.7         20     459.54  ...      152.25      1442.31   \n..         ...        ...        ...        ...  ...         ...          ...   \n368        350        108         80     251.37  ...      1176.5       8343.6   \n369        150         36         60     299.55  ...       815.5         1755   \n370        430        285        150     364.41  ...      1584.3      8776.71   \n371        160       30.6         60     245.28  ...       909.2      7930.66   \n372        230       35.6         40     237.03  ...       764.5         1755   \n\n    Unnamed: 101 Unnamed: 102 Unnamed: 103 Unnamed: 104 Unnamed: 105  \\\n0           V-24         V-25         V-26         V-27         V-28   \n1           8002        60.74        54.26      2978.26        41407   \n2           8393        90.95        89.79      11379.4        44835   \n3           4930         38.7        32.04      1653.06        37933   \n4           1456         9.73         8.34       686.16         8194   \n..           ...          ...          ...          ...          ...   \n368         8382        87.27        85.56      10555.5      33626.2   \n369         8013        62.78        56.45      3387.72      10646.8   \n370         8799          101       101.89      13571.8      34474.5   \n371         8004        73.57        69.26      4756.68        21855   \n372         8420        54.62        44.79      2206.19        40234   \n\n    Unnamed: 106 OUTPUTS Unnamed: 108  \n0           V-29     V-9         V-10  \n1         601988    2200          410  \n2         929027    5000         1000  \n3         377829    1200          170  \n4         122032     165           30  \n..           ...     ...          ...  \n368       865879    1100          150  \n369       606524     740           80  \n370      1067772     860          220  \n371       669640    1100          110  \n372       629797     460           50  \n\n[373 rows x 109 columns]"
     },
     "metadata": {},
     "output_type": "display_data"
    }
   ],
   "source": [
    "data = pd.read_excel('Residential-Building-Data-Set.xlsx',list='Data')\n",
    "display(data)"
   ]
  }
 ],
 "metadata": {
  "kernelspec": {
   "display_name": "Python 3",
   "language": "python",
   "name": "python3"
  },
  "language_info": {
   "codemirror_mode": {
    "name": "ipython",
    "version": 3
   },
   "file_extension": ".py",
   "mimetype": "text/x-python",
   "name": "python",
   "nbconvert_exporter": "python",
   "pygments_lexer": "ipython3",
   "version": "3.6.8-final"
  }
 },
 "nbformat": 4,
 "nbformat_minor": 4
}